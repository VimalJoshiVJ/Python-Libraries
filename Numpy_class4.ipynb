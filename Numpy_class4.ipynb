{
 "cells": [
  {
   "cell_type": "code",
   "execution_count": 1,
   "id": "7f943e58-838c-48ef-b974-f240042fe7a9",
   "metadata": {},
   "outputs": [],
   "source": [
    "import numpy as np"
   ]
  },
  {
   "cell_type": "code",
   "execution_count": 2,
   "id": "fb033243-45d5-4c93-9407-b090906402fd",
   "metadata": {},
   "outputs": [
    {
     "data": {
      "text/plain": [
       "array([[3, 4],\n",
       "       [4, 5]])"
      ]
     },
     "execution_count": 2,
     "metadata": {},
     "output_type": "execute_result"
    }
   ],
   "source": [
    "arr= np.array([[3,4],[4,5]])\n",
    "arr"
   ]
  },
  {
   "cell_type": "code",
   "execution_count": 3,
   "id": "8e62dd73-759f-48b7-9bd5-00234e9f6c7f",
   "metadata": {},
   "outputs": [
    {
     "data": {
      "text/plain": [
       "-1.0"
      ]
     },
     "execution_count": 3,
     "metadata": {},
     "output_type": "execute_result"
    }
   ],
   "source": [
    "np.linalg.det(arr)"
   ]
  },
  {
   "cell_type": "code",
   "execution_count": 4,
   "id": "b551aad4-dc61-4026-aaed-acefc15e42fb",
   "metadata": {},
   "outputs": [],
   "source": [
    "A= np.array([[2,3],[4,5]])\n",
    "B= np.array([4,6])\n",
    "X=np.linalg.solve(A,B)\n"
   ]
  },
  {
   "cell_type": "code",
   "execution_count": 5,
   "id": "86e7ea73-1799-479f-a828-4c671e32ab1b",
   "metadata": {},
   "outputs": [
    {
     "data": {
      "text/plain": [
       "array([-1.,  2.])"
      ]
     },
     "execution_count": 5,
     "metadata": {},
     "output_type": "execute_result"
    }
   ],
   "source": [
    "X"
   ]
  },
  {
   "cell_type": "code",
   "execution_count": 6,
   "id": "1dedc6cf-45e7-41ec-8ae6-2913be1fe9f6",
   "metadata": {},
   "outputs": [],
   "source": [
    "# eigon values and eigon vectors"
   ]
  },
  {
   "cell_type": "code",
   "execution_count": 7,
   "id": "5a4200f4-2e8e-458a-ba9a-447ef3939cee",
   "metadata": {},
   "outputs": [
    {
     "data": {
      "text/plain": [
       "array([[1, 1],\n",
       "       [1, 1]])"
      ]
     },
     "execution_count": 7,
     "metadata": {},
     "output_type": "execute_result"
    }
   ],
   "source": [
    "arr1= np.array([[1,1],[1,1]])\n",
    "arr1"
   ]
  },
  {
   "cell_type": "code",
   "execution_count": 8,
   "id": "92b14716-f39c-4055-aa85-8951bf34f3c9",
   "metadata": {},
   "outputs": [],
   "source": [
    "x,y= np.linalg.eig(arr1)"
   ]
  },
  {
   "cell_type": "code",
   "execution_count": 9,
   "id": "ef84a975-5cb6-4602-aad5-ab2688c9babd",
   "metadata": {},
   "outputs": [
    {
     "data": {
      "text/plain": [
       "array([2., 0.])"
      ]
     },
     "execution_count": 9,
     "metadata": {},
     "output_type": "execute_result"
    }
   ],
   "source": [
    "x"
   ]
  },
  {
   "cell_type": "code",
   "execution_count": 10,
   "id": "72b9cfa2-b074-4c1f-b254-54b115c05c57",
   "metadata": {},
   "outputs": [
    {
     "data": {
      "text/plain": [
       "array([[ 0.70710678, -0.70710678],\n",
       "       [ 0.70710678,  0.70710678]])"
      ]
     },
     "execution_count": 10,
     "metadata": {},
     "output_type": "execute_result"
    }
   ],
   "source": [
    "y"
   ]
  },
  {
   "cell_type": "code",
   "execution_count": null,
   "id": "145bfd70-28ab-407b-a62d-8fe11475e5b9",
   "metadata": {},
   "outputs": [],
   "source": []
  }
 ],
 "metadata": {
  "kernelspec": {
   "display_name": "Python 3 (ipykernel)",
   "language": "python",
   "name": "python3"
  },
  "language_info": {
   "codemirror_mode": {
    "name": "ipython",
    "version": 3
   },
   "file_extension": ".py",
   "mimetype": "text/x-python",
   "name": "python",
   "nbconvert_exporter": "python",
   "pygments_lexer": "ipython3",
   "version": "3.12.4"
  }
 },
 "nbformat": 4,
 "nbformat_minor": 5
}
