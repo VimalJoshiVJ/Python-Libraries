{
 "cells": [
  {
   "cell_type": "code",
   "execution_count": 1,
   "id": "74222505-2655-40ca-a18e-176eb0ba5735",
   "metadata": {},
   "outputs": [],
   "source": [
    "import numpy as np"
   ]
  },
  {
   "cell_type": "code",
   "execution_count": 2,
   "id": "f2f274c8-cde7-4303-b2a4-3a2ff69a7fe6",
   "metadata": {},
   "outputs": [
    {
     "data": {
      "text/plain": [
       "array([13,  5,  2, 12, 17])"
      ]
     },
     "execution_count": 2,
     "metadata": {},
     "output_type": "execute_result"
    }
   ],
   "source": [
    "arr1= np.random.randint(1,20,(5))\n",
    "arr1"
   ]
  },
  {
   "cell_type": "code",
   "execution_count": 3,
   "id": "e8188947-4d19-41da-9df2-17f95c0602d4",
   "metadata": {},
   "outputs": [
    {
     "name": "stdout",
     "output_type": "stream",
     "text": [
      "sum 49\n",
      "maximum value 17\n",
      "minimum value 2\n",
      "standard deviation 5.491812087098393\n"
     ]
    }
   ],
   "source": [
    "print(\"sum\" , np.sum(arr1))\n",
    "print(\"maximum value\", np.max(arr1))\n",
    "print(\"minimum value\", np.min(arr1))\n",
    "print(\"standard deviation\", np.std(arr1))"
   ]
  },
  {
   "cell_type": "code",
   "execution_count": 4,
   "id": "b22b924d-5a55-4e7c-8e81-3c9b6f716df4",
   "metadata": {},
   "outputs": [
    {
     "data": {
      "text/plain": [
       "array([[1, 4, 1, 3],\n",
       "       [3, 4, 2, 2],\n",
       "       [1, 2, 1, 4],\n",
       "       [1, 3, 4, 1]])"
      ]
     },
     "execution_count": 4,
     "metadata": {},
     "output_type": "execute_result"
    }
   ],
   "source": [
    "arr2= np.random.randint(1,5,(4,4))\n",
    "arr2"
   ]
  },
  {
   "cell_type": "code",
   "execution_count": 5,
   "id": "a71b4ae5-77d2-4024-b3a9-b5f8d429a27c",
   "metadata": {},
   "outputs": [
    {
     "name": "stdout",
     "output_type": "stream",
     "text": [
      "sum y axis [ 6 13  8 10]\n"
     ]
    }
   ],
   "source": [
    "print(\"sum y axis\", np.sum(arr2, axis=0))"
   ]
  },
  {
   "cell_type": "code",
   "execution_count": 6,
   "id": "d44b3dbb-0833-40c6-82e6-df82322fc41f",
   "metadata": {},
   "outputs": [
    {
     "name": "stdout",
     "output_type": "stream",
     "text": [
      "sum x axis [ 9 11  8  9]\n"
     ]
    }
   ],
   "source": [
    "print(\"sum x axis\", np.sum(arr2, axis=1))"
   ]
  },
  {
   "cell_type": "code",
   "execution_count": 7,
   "id": "83492e64-0a7e-4dc1-9a59-1793874856d7",
   "metadata": {},
   "outputs": [],
   "source": [
    "arr3= np.array([1,2,3,4])\n",
    "arr4= np.array([3,2,3,5])"
   ]
  },
  {
   "cell_type": "code",
   "execution_count": 8,
   "id": "dd7918c6-512e-4e1f-9ffb-e1474f9683c7",
   "metadata": {},
   "outputs": [
    {
     "name": "stdout",
     "output_type": "stream",
     "text": [
      "[False False False False]\n",
      "[False  True  True False]\n",
      "[ True  True  True  True]\n"
     ]
    }
   ],
   "source": [
    "print(arr3>arr4)\n",
    "print(arr3==arr4)\n",
    "print(arr3<=arr4)"
   ]
  },
  {
   "cell_type": "code",
   "execution_count": 9,
   "id": "329b463b-d68b-44a0-81ad-bf4491034efc",
   "metadata": {},
   "outputs": [
    {
     "data": {
      "text/plain": [
       "array([False,  True,  True,  True])"
      ]
     },
     "execution_count": 9,
     "metadata": {},
     "output_type": "execute_result"
    }
   ],
   "source": [
    "arr3>=2"
   ]
  },
  {
   "cell_type": "code",
   "execution_count": 30,
   "id": "4e849526-201b-422b-ad75-00120934b80e",
   "metadata": {},
   "outputs": [
    {
     "data": {
      "text/plain": [
       "array([[ 2, 13, 15,  7],\n",
       "       [ 9,  2, 17,  5],\n",
       "       [14, 19, 12,  7],\n",
       "       [15, 15,  5,  9]])"
      ]
     },
     "execution_count": 30,
     "metadata": {},
     "output_type": "execute_result"
    }
   ],
   "source": [
    "arr5= np.random.randint(1,20,(4,4))\n",
    "arr5"
   ]
  },
  {
   "cell_type": "code",
   "execution_count": 34,
   "id": "2a32f517-41f3-4d73-a3d3-afaec7c84332",
   "metadata": {},
   "outputs": [
    {
     "data": {
      "text/plain": [
       "7"
      ]
     },
     "execution_count": 34,
     "metadata": {},
     "output_type": "execute_result"
    }
   ],
   "source": [
    "arr5[2,3]"
   ]
  },
  {
   "cell_type": "code",
   "execution_count": 36,
   "id": "06c5245a-3b60-4189-9a10-a2ac8e3f53ae",
   "metadata": {},
   "outputs": [
    {
     "data": {
      "text/plain": [
       "15"
      ]
     },
     "execution_count": 36,
     "metadata": {},
     "output_type": "execute_result"
    }
   ],
   "source": [
    "arr5[0,2]"
   ]
  },
  {
   "cell_type": "code",
   "execution_count": 42,
   "id": "0967fc31-2a6e-4b4a-a6e2-bd57e124425e",
   "metadata": {},
   "outputs": [
    {
     "data": {
      "text/plain": [
       "array([[ 9,  2],\n",
       "       [14, 19]])"
      ]
     },
     "execution_count": 42,
     "metadata": {},
     "output_type": "execute_result"
    }
   ],
   "source": [
    "arr5[1:3,0:2]"
   ]
  },
  {
   "cell_type": "code",
   "execution_count": null,
   "id": "51b6186e-0a9b-4988-a6d1-dd0d086cab16",
   "metadata": {},
   "outputs": [],
   "source": []
  }
 ],
 "metadata": {
  "kernelspec": {
   "display_name": "Python 3 (ipykernel)",
   "language": "python",
   "name": "python3"
  },
  "language_info": {
   "codemirror_mode": {
    "name": "ipython",
    "version": 3
   },
   "file_extension": ".py",
   "mimetype": "text/x-python",
   "name": "python",
   "nbconvert_exporter": "python",
   "pygments_lexer": "ipython3",
   "version": "3.12.4"
  }
 },
 "nbformat": 4,
 "nbformat_minor": 5
}
