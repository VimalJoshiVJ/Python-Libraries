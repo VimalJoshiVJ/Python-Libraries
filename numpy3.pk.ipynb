{
 "cells": [
  {
   "cell_type": "code",
   "execution_count": 1,
   "id": "940f66ea",
   "metadata": {},
   "outputs": [],
   "source": [
    "#numpy operations"
   ]
  },
  {
   "cell_type": "code",
   "execution_count": 2,
   "id": "c83fa9f0",
   "metadata": {},
   "outputs": [],
   "source": [
    "import numpy as np"
   ]
  },
  {
   "cell_type": "code",
   "execution_count": 3,
   "id": "179facef",
   "metadata": {},
   "outputs": [],
   "source": [
    "arr1=np.random.randint(1,10,(3,4))"
   ]
  },
  {
   "cell_type": "code",
   "execution_count": 4,
   "id": "60c70c26",
   "metadata": {},
   "outputs": [
    {
     "data": {
      "text/plain": [
       "array([[2, 6, 8, 1],\n",
       "       [1, 2, 4, 3],\n",
       "       [4, 8, 1, 2]])"
      ]
     },
     "execution_count": 4,
     "metadata": {},
     "output_type": "execute_result"
    }
   ],
   "source": [
    "arr1"
   ]
  },
  {
   "cell_type": "code",
   "execution_count": 5,
   "id": "90b0d4cd",
   "metadata": {},
   "outputs": [],
   "source": [
    "arr2=np.random.randint(1,10,(3,4))"
   ]
  },
  {
   "cell_type": "code",
   "execution_count": 6,
   "id": "fa9dfe14",
   "metadata": {},
   "outputs": [
    {
     "data": {
      "text/plain": [
       "array([[4, 2, 8, 6],\n",
       "       [7, 4, 4, 2],\n",
       "       [5, 7, 6, 3]])"
      ]
     },
     "execution_count": 6,
     "metadata": {},
     "output_type": "execute_result"
    }
   ],
   "source": [
    "arr2"
   ]
  },
  {
   "cell_type": "code",
   "execution_count": 7,
   "id": "7905047c",
   "metadata": {},
   "outputs": [
    {
     "data": {
      "text/plain": [
       "array([[ 6,  8, 16,  7],\n",
       "       [ 8,  6,  8,  5],\n",
       "       [ 9, 15,  7,  5]])"
      ]
     },
     "execution_count": 7,
     "metadata": {},
     "output_type": "execute_result"
    }
   ],
   "source": [
    "arr1+arr2#addition operation"
   ]
  },
  {
   "cell_type": "code",
   "execution_count": 8,
   "id": "e3918e8d",
   "metadata": {},
   "outputs": [
    {
     "data": {
      "text/plain": [
       "array([[ 8, 12, 64,  6],\n",
       "       [ 7,  8, 16,  6],\n",
       "       [20, 56,  6,  6]])"
      ]
     },
     "execution_count": 8,
     "metadata": {},
     "output_type": "execute_result"
    }
   ],
   "source": [
    "arr1*arr2"
   ]
  },
  {
   "cell_type": "code",
   "execution_count": 9,
   "id": "4fbb4db1",
   "metadata": {},
   "outputs": [
    {
     "data": {
      "text/plain": [
       "array([[0.5       , 3.        , 1.        , 0.16666667],\n",
       "       [0.14285714, 0.5       , 1.        , 1.5       ],\n",
       "       [0.8       , 1.14285714, 0.16666667, 0.66666667]])"
      ]
     },
     "execution_count": 9,
     "metadata": {},
     "output_type": "execute_result"
    }
   ],
   "source": [
    "arr1/arr2# division operation"
   ]
  },
  {
   "cell_type": "code",
   "execution_count": 10,
   "id": "d76079e7",
   "metadata": {},
   "outputs": [
    {
     "data": {
      "text/plain": [
       "array([[-2,  4,  0, -5],\n",
       "       [-6, -2,  0,  1],\n",
       "       [-1,  1, -5, -1]])"
      ]
     },
     "execution_count": 10,
     "metadata": {},
     "output_type": "execute_result"
    }
   ],
   "source": [
    "arr1-arr2#substraction operation"
   ]
  },
  {
   "cell_type": "code",
   "execution_count": 11,
   "id": "29f0a8cf",
   "metadata": {},
   "outputs": [
    {
     "data": {
      "text/plain": [
       "array([[      16,       36, 16777216,        1],\n",
       "       [       1,       16,      256,        9],\n",
       "       [    1024,  2097152,        1,        8]])"
      ]
     },
     "execution_count": 11,
     "metadata": {},
     "output_type": "execute_result"
    }
   ],
   "source": [
    "arr1**arr2"
   ]
  },
  {
   "cell_type": "code",
   "execution_count": 12,
   "id": "26d4963d",
   "metadata": {},
   "outputs": [
    {
     "data": {
      "text/plain": [
       "array([[0, 2, 8, 0],\n",
       "       [1, 0, 4, 2],\n",
       "       [4, 0, 0, 2]])"
      ]
     },
     "execution_count": 12,
     "metadata": {},
     "output_type": "execute_result"
    }
   ],
   "source": [
    "arr1 & arr2"
   ]
  },
  {
   "cell_type": "code",
   "execution_count": 13,
   "id": "359d23ab",
   "metadata": {},
   "outputs": [
    {
     "data": {
      "text/plain": [
       "array([[2, 6, 8, 1],\n",
       "       [1, 2, 4, 3],\n",
       "       [4, 8, 1, 2]])"
      ]
     },
     "execution_count": 13,
     "metadata": {},
     "output_type": "execute_result"
    }
   ],
   "source": [
    "arr1"
   ]
  },
  {
   "cell_type": "code",
   "execution_count": 14,
   "id": "5820550a",
   "metadata": {},
   "outputs": [
    {
     "data": {
      "text/plain": [
       "array([[4, 2, 8, 6],\n",
       "       [7, 4, 4, 2],\n",
       "       [5, 7, 6, 3]])"
      ]
     },
     "execution_count": 14,
     "metadata": {},
     "output_type": "execute_result"
    }
   ],
   "source": [
    "arr2"
   ]
  },
  {
   "cell_type": "code",
   "execution_count": 15,
   "id": "b75be8ca",
   "metadata": {},
   "outputs": [
    {
     "data": {
      "text/plain": [
       "array([[-2, -6, -8, -1],\n",
       "       [-1, -2, -4, -3],\n",
       "       [-4, -8, -1, -2]])"
      ]
     },
     "execution_count": 15,
     "metadata": {},
     "output_type": "execute_result"
    }
   ],
   "source": [
    "-arr1"
   ]
  },
  {
   "cell_type": "code",
   "execution_count": 18,
   "id": "ae8de55f",
   "metadata": {},
   "outputs": [
    {
     "data": {
      "text/plain": [
       "array([[ 6,  6,  8,  7],\n",
       "       [ 7,  6,  4,  3],\n",
       "       [ 5, 15,  7,  3]])"
      ]
     },
     "execution_count": 18,
     "metadata": {},
     "output_type": "execute_result"
    }
   ],
   "source": [
    "arr1|arr2"
   ]
  },
  {
   "cell_type": "code",
   "execution_count": 19,
   "id": "255719ae",
   "metadata": {},
   "outputs": [],
   "source": [
    "#numpy--string function"
   ]
  },
  {
   "cell_type": "code",
   "execution_count": 21,
   "id": "95a32153",
   "metadata": {},
   "outputs": [],
   "source": [
    "arr=np.array([\"priyanka\",\"nikita\"])"
   ]
  },
  {
   "cell_type": "code",
   "execution_count": 22,
   "id": "33eccbb0",
   "metadata": {},
   "outputs": [
    {
     "data": {
      "text/plain": [
       "array(['PRIYANKA', 'NIKITA'], dtype='<U8')"
      ]
     },
     "execution_count": 22,
     "metadata": {},
     "output_type": "execute_result"
    }
   ],
   "source": [
    "np.char.upper(arr)"
   ]
  },
  {
   "cell_type": "code",
   "execution_count": 23,
   "id": "552f3a5a",
   "metadata": {},
   "outputs": [
    {
     "data": {
      "text/plain": [
       "array(['Priyanka', 'Nikita'], dtype='<U8')"
      ]
     },
     "execution_count": 23,
     "metadata": {},
     "output_type": "execute_result"
    }
   ],
   "source": [
    "np.char.title(arr)"
   ]
  },
  {
   "cell_type": "code",
   "execution_count": 24,
   "id": "1f37b3cf",
   "metadata": {},
   "outputs": [
    {
     "data": {
      "text/plain": [
       "array(['Priyanka', 'Nikita'], dtype='<U8')"
      ]
     },
     "execution_count": 24,
     "metadata": {},
     "output_type": "execute_result"
    }
   ],
   "source": [
    "np.char.capitalize(arr)"
   ]
  },
  {
   "cell_type": "code",
   "execution_count": 25,
   "id": "f52cfb40",
   "metadata": {},
   "outputs": [],
   "source": [
    "#numpy-Numerical Function"
   ]
  },
  {
   "cell_type": "code",
   "execution_count": 26,
   "id": "0a6881be",
   "metadata": {},
   "outputs": [
    {
     "data": {
      "text/plain": [
       "array([[2, 6, 8, 1],\n",
       "       [1, 2, 4, 3],\n",
       "       [4, 8, 1, 2]])"
      ]
     },
     "execution_count": 26,
     "metadata": {},
     "output_type": "execute_result"
    }
   ],
   "source": [
    "arr1"
   ]
  },
  {
   "cell_type": "code",
   "execution_count": 28,
   "id": "6511c7a3",
   "metadata": {},
   "outputs": [
    {
     "data": {
      "text/plain": [
       "array([[ 0.90929743, -0.2794155 ,  0.98935825,  0.84147098],\n",
       "       [ 0.84147098,  0.90929743, -0.7568025 ,  0.14112001],\n",
       "       [-0.7568025 ,  0.98935825,  0.84147098,  0.90929743]])"
      ]
     },
     "execution_count": 28,
     "metadata": {},
     "output_type": "execute_result"
    }
   ],
   "source": [
    "np.sin(arr1)"
   ]
  },
  {
   "cell_type": "code",
   "execution_count": 29,
   "id": "e1992ec2",
   "metadata": {},
   "outputs": [
    {
     "data": {
      "text/plain": [
       "array([[-0.41614684,  0.96017029, -0.14550003,  0.54030231],\n",
       "       [ 0.54030231, -0.41614684, -0.65364362, -0.9899925 ],\n",
       "       [-0.65364362, -0.14550003,  0.54030231, -0.41614684]])"
      ]
     },
     "execution_count": 29,
     "metadata": {},
     "output_type": "execute_result"
    }
   ],
   "source": [
    "np.cos(arr1)"
   ]
  },
  {
   "cell_type": "code",
   "execution_count": 30,
   "id": "fac082a0",
   "metadata": {},
   "outputs": [
    {
     "data": {
      "text/plain": [
       "array([[0.96402758, 0.99998771, 0.99999977, 0.76159416],\n",
       "       [0.76159416, 0.96402758, 0.9993293 , 0.99505475],\n",
       "       [0.9993293 , 0.99999977, 0.76159416, 0.96402758]])"
      ]
     },
     "execution_count": 30,
     "metadata": {},
     "output_type": "execute_result"
    }
   ],
   "source": [
    "np.tanh(arr1)"
   ]
  },
  {
   "cell_type": "code",
   "execution_count": 31,
   "id": "104f8d38",
   "metadata": {},
   "outputs": [
    {
     "data": {
      "text/plain": [
       "array([[0.30103   , 0.77815125, 0.90308999, 0.        ],\n",
       "       [0.        , 0.30103   , 0.60205999, 0.47712125],\n",
       "       [0.60205999, 0.90308999, 0.        , 0.30103   ]])"
      ]
     },
     "execution_count": 31,
     "metadata": {},
     "output_type": "execute_result"
    }
   ],
   "source": [
    "np.log10(arr1)"
   ]
  },
  {
   "cell_type": "code",
   "execution_count": 32,
   "id": "03a3479a",
   "metadata": {},
   "outputs": [
    {
     "data": {
      "text/plain": [
       "array([[7.38905610e+00, 4.03428793e+02, 2.98095799e+03, 2.71828183e+00],\n",
       "       [2.71828183e+00, 7.38905610e+00, 5.45981500e+01, 2.00855369e+01],\n",
       "       [5.45981500e+01, 2.98095799e+03, 2.71828183e+00, 7.38905610e+00]])"
      ]
     },
     "execution_count": 32,
     "metadata": {},
     "output_type": "execute_result"
    }
   ],
   "source": [
    "np.exp(arr1)"
   ]
  },
  {
   "cell_type": "code",
   "execution_count": 33,
   "id": "1a575e42",
   "metadata": {},
   "outputs": [
    {
     "data": {
      "text/plain": [
       "array([[1.41421356, 2.44948974, 2.82842712, 1.        ],\n",
       "       [1.        , 1.41421356, 2.        , 1.73205081],\n",
       "       [2.        , 2.82842712, 1.        , 1.41421356]])"
      ]
     },
     "execution_count": 33,
     "metadata": {},
     "output_type": "execute_result"
    }
   ],
   "source": [
    "np.sqrt(arr1)"
   ]
  },
  {
   "cell_type": "code",
   "execution_count": 34,
   "id": "39775f42",
   "metadata": {},
   "outputs": [
    {
     "data": {
      "text/plain": [
       "array([[ 4, 36, 64,  1],\n",
       "       [ 1,  4, 16,  9],\n",
       "       [16, 64,  1,  4]], dtype=int32)"
      ]
     },
     "execution_count": 34,
     "metadata": {},
     "output_type": "execute_result"
    }
   ],
   "source": [
    "np.power(arr1,2)"
   ]
  },
  {
   "cell_type": "code",
   "execution_count": 35,
   "id": "55aeb728",
   "metadata": {},
   "outputs": [
    {
     "data": {
      "text/plain": [
       "3.5"
      ]
     },
     "execution_count": 35,
     "metadata": {},
     "output_type": "execute_result"
    }
   ],
   "source": [
    "np.mean(arr1)"
   ]
  },
  {
   "cell_type": "code",
   "execution_count": 36,
   "id": "597324c8",
   "metadata": {},
   "outputs": [
    {
     "data": {
      "text/plain": [
       "1"
      ]
     },
     "execution_count": 36,
     "metadata": {},
     "output_type": "execute_result"
    }
   ],
   "source": [
    "np.min(arr1)"
   ]
  },
  {
   "cell_type": "code",
   "execution_count": 37,
   "id": "7a8edf50",
   "metadata": {},
   "outputs": [
    {
     "data": {
      "text/plain": [
       "8"
      ]
     },
     "execution_count": 37,
     "metadata": {},
     "output_type": "execute_result"
    }
   ],
   "source": [
    "np.max(arr1)"
   ]
  },
  {
   "cell_type": "code",
   "execution_count": 38,
   "id": "cc7c58b9",
   "metadata": {},
   "outputs": [
    {
     "data": {
      "text/plain": [
       "2.5"
      ]
     },
     "execution_count": 38,
     "metadata": {},
     "output_type": "execute_result"
    }
   ],
   "source": [
    "np.median(arr1)"
   ]
  },
  {
   "cell_type": "code",
   "execution_count": 39,
   "id": "3d3d6fcc",
   "metadata": {},
   "outputs": [
    {
     "data": {
      "text/plain": [
       "2.4664414311581235"
      ]
     },
     "execution_count": 39,
     "metadata": {},
     "output_type": "execute_result"
    }
   ],
   "source": [
    "np.std(arr1)"
   ]
  },
  {
   "cell_type": "code",
   "execution_count": 40,
   "id": "9a96288c",
   "metadata": {},
   "outputs": [
    {
     "data": {
      "text/plain": [
       "8"
      ]
     },
     "execution_count": 40,
     "metadata": {},
     "output_type": "execute_result"
    }
   ],
   "source": [
    "np.max(arr1)"
   ]
  },
  {
   "cell_type": "code",
   "execution_count": null,
   "id": "2dcf3860",
   "metadata": {},
   "outputs": [],
   "source": []
  }
 ],
 "metadata": {
  "kernelspec": {
   "display_name": "Python 3 (ipykernel)",
   "language": "python",
   "name": "python3"
  },
  "language_info": {
   "codemirror_mode": {
    "name": "ipython",
    "version": 3
   },
   "file_extension": ".py",
   "mimetype": "text/x-python",
   "name": "python",
   "nbconvert_exporter": "python",
   "pygments_lexer": "ipython3",
   "version": "3.10.9"
  }
 },
 "nbformat": 4,
 "nbformat_minor": 5
}
