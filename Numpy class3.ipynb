{
 "cells": [
  {
   "cell_type": "code",
   "execution_count": 1,
   "id": "d28b9f7d-ffa8-4a48-a813-49fb9b139d88",
   "metadata": {},
   "outputs": [],
   "source": [
    "import numpy as np"
   ]
  },
  {
   "cell_type": "code",
   "execution_count": 12,
   "id": "687c8bbd-166d-48cf-af68-6256a7f9554b",
   "metadata": {},
   "outputs": [
    {
     "data": {
      "text/plain": [
       "array([[9, 7, 7, 6],\n",
       "       [4, 3, 8, 5],\n",
       "       [1, 1, 3, 1],\n",
       "       [6, 6, 1, 7]])"
      ]
     },
     "execution_count": 12,
     "metadata": {},
     "output_type": "execute_result"
    }
   ],
   "source": [
    "arr1= np.random.randint(1,10,(4,4))\n",
    "arr1"
   ]
  },
  {
   "cell_type": "code",
   "execution_count": 19,
   "id": "773abc68-f87c-4247-8b7c-48a900855094",
   "metadata": {},
   "outputs": [
    {
     "data": {
      "text/plain": [
       "array([[9, 4, 1, 6],\n",
       "       [7, 3, 1, 6],\n",
       "       [7, 8, 3, 1],\n",
       "       [6, 5, 1, 7]])"
      ]
     },
     "execution_count": 19,
     "metadata": {},
     "output_type": "execute_result"
    }
   ],
   "source": [
    "x= arr1.T\n",
    "x"
   ]
  },
  {
   "cell_type": "code",
   "execution_count": 25,
   "id": "4c3fc130-70d3-403b-9a3c-70ac82ce8d6d",
   "metadata": {},
   "outputs": [
    {
     "data": {
      "text/plain": [
       "array([[9, 7, 7, 6],\n",
       "       [4, 3, 8, 5],\n",
       "       [1, 1, 3, 1],\n",
       "       [6, 6, 1, 7]])"
      ]
     },
     "execution_count": 25,
     "metadata": {},
     "output_type": "execute_result"
    }
   ],
   "source": [
    "np.swapaxes(x,0,1)\n"
   ]
  },
  {
   "cell_type": "code",
   "execution_count": 43,
   "id": "c87264c9-f4eb-484f-8fac-8bf525f2ea95",
   "metadata": {},
   "outputs": [
    {
     "data": {
      "text/plain": [
       "array([[3, 1],\n",
       "       [3, 4]])"
      ]
     },
     "execution_count": 43,
     "metadata": {},
     "output_type": "execute_result"
    }
   ],
   "source": [
    "arr2= np.random.randint(1,5,(2,2))\n",
    "arr2"
   ]
  },
  {
   "cell_type": "code",
   "execution_count": 45,
   "id": "81bcc51e-d0cb-45bf-ac66-e47787e1d4a9",
   "metadata": {},
   "outputs": [
    {
     "data": {
      "text/plain": [
       "array([[7, 6],\n",
       "       [7, 8]])"
      ]
     },
     "execution_count": 45,
     "metadata": {},
     "output_type": "execute_result"
    }
   ],
   "source": [
    "arr3= np.random.randint(5,10,(2,2))\n",
    "arr3"
   ]
  },
  {
   "cell_type": "code",
   "execution_count": 53,
   "id": "e6b90ceb-9058-4b94-95d5-2eee2e179964",
   "metadata": {},
   "outputs": [
    {
     "data": {
      "text/plain": [
       "array([[3, 1, 7, 6],\n",
       "       [3, 4, 7, 8]])"
      ]
     },
     "execution_count": 53,
     "metadata": {},
     "output_type": "execute_result"
    }
   ],
   "source": [
    "conc= np.hstack((arr2,arr3))\n",
    "conc"
   ]
  },
  {
   "cell_type": "code",
   "execution_count": 55,
   "id": "e2a8d465-e363-4422-a288-2bb96ec045ce",
   "metadata": {},
   "outputs": [
    {
     "data": {
      "text/plain": [
       "array([7, 5, 9, 7, 3, 2, 4, 6])"
      ]
     },
     "execution_count": 55,
     "metadata": {},
     "output_type": "execute_result"
    }
   ],
   "source": [
    "arr4= np.random.randint(1,10,(8))\n",
    "arr4"
   ]
  },
  {
   "cell_type": "code",
   "execution_count": 57,
   "id": "a93835a5-5941-48ff-a928-3a4485e7104a",
   "metadata": {},
   "outputs": [
    {
     "data": {
      "text/plain": [
       "[array([7, 5, 9, 7]), array([3, 2, 4, 6])]"
      ]
     },
     "execution_count": 57,
     "metadata": {},
     "output_type": "execute_result"
    }
   ],
   "source": [
    "np.split(arr4,2)"
   ]
  },
  {
   "cell_type": "code",
   "execution_count": 83,
   "id": "e448a738-0e28-42c7-9f40-3660ccea6a93",
   "metadata": {},
   "outputs": [
    {
     "data": {
      "text/plain": [
       "array([7, 7, 3, 5, 2, 5, 5, 3, 5, 4, 3, 1, 5, 6, 1, 6])"
      ]
     },
     "execution_count": 83,
     "metadata": {},
     "output_type": "execute_result"
    }
   ],
   "source": [
    "arr5= np.random.randint(1,10,(16))\n",
    "arr5"
   ]
  },
  {
   "cell_type": "code",
   "execution_count": 91,
   "id": "43423bfc-4b90-4729-9e90-b0b697ac93f9",
   "metadata": {},
   "outputs": [
    {
     "data": {
      "text/plain": [
       "array([[[[7, 7],\n",
       "         [3, 5]],\n",
       "\n",
       "        [[2, 5],\n",
       "         [5, 3]]],\n",
       "\n",
       "\n",
       "       [[[5, 4],\n",
       "         [3, 1]],\n",
       "\n",
       "        [[5, 6],\n",
       "         [1, 6]]]])"
      ]
     },
     "execution_count": 91,
     "metadata": {},
     "output_type": "execute_result"
    }
   ],
   "source": [
    "x= arr5.reshape(2,2,2,2)\n",
    "x"
   ]
  },
  {
   "cell_type": "code",
   "execution_count": 93,
   "id": "91751732-fab0-4754-bad1-5f82f2670081",
   "metadata": {},
   "outputs": [
    {
     "data": {
      "text/plain": [
       "array([7, 7, 3, 5, 2, 5, 5, 3, 5, 4, 3, 1, 5, 6, 1, 6])"
      ]
     },
     "execution_count": 93,
     "metadata": {},
     "output_type": "execute_result"
    }
   ],
   "source": [
    "x.reshape(-1)"
   ]
  },
  {
   "cell_type": "code",
   "execution_count": null,
   "id": "edceb267-4591-4dae-ab38-c02b414324f4",
   "metadata": {},
   "outputs": [],
   "source": []
  }
 ],
 "metadata": {
  "kernelspec": {
   "display_name": "Python 3 (ipykernel)",
   "language": "python",
   "name": "python3"
  },
  "language_info": {
   "codemirror_mode": {
    "name": "ipython",
    "version": 3
   },
   "file_extension": ".py",
   "mimetype": "text/x-python",
   "name": "python",
   "nbconvert_exporter": "python",
   "pygments_lexer": "ipython3",
   "version": "3.12.4"
  }
 },
 "nbformat": 4,
 "nbformat_minor": 5
}
